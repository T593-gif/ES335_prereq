{
 "cells": [
  {
   "cell_type": "markdown",
   "metadata": {},
   "source": [
    "Q1. \n",
    "Let say there are two matrix A and B of sizes (n,k) and (k,m).\n",
    "After doing matrix multiplication of A and B , we will get a matrix C of size (n,m).\n",
    "\n",
    "Each element C[i][j] is computed by taking the dot product of the ith row of matrix A and the jth column of matrix B.\n",
    "The dot product of two vectors of length k involves k multiplications and k-1 additions. Since we need to compute the dot product for each entry in the resulting matrix C, \n",
    "the total number of multiplications is n * m * k\n",
    "and the total number of additions is n * m * (k-1)."
   ]
  },
  {
   "cell_type": "markdown",
   "metadata": {},
   "source": [
    "Q2\n"
   ]
  },
  {
   "cell_type": "code",
   "execution_count": 37,
   "metadata": {},
   "outputs": [],
   "source": [
    "#Using list of lists\n",
    "import time\n",
    "def mat_multiply(a, b):\n",
    "    # Check if matrices can be multiplied\n",
    "    if len(a[0]) != len(b):\n",
    "        raise ValueError(\"Number of columns in the first matrix must be equal to the number of rows in the second matrix\")\n",
    "\n",
    "    result_mat= [[0 for i in range(len(b[0]))] for j in range(len(a))]\n",
    "\n",
    "    for i in range(len(a)):\n",
    "        for j in range(len(b[0])):\n",
    "            for k in range(len(b)):\n",
    "                result_mat[i][j] += a[i][k] * b[k][j]\n",
    "\n",
    "    return result_mat\n"
   ]
  },
  {
   "cell_type": "code",
   "execution_count": 40,
   "metadata": {},
   "outputs": [],
   "source": [
    "import numpy as np\n",
    "import time\n",
    "def mat_multiply(a, b):\n",
    "    mat_a = np.array(a)\n",
    "    mat_b = np.array(b)\n",
    "    \n",
    "    result_numpy = np.dot(mat_a, mat_b)\n",
    "    print(\"\\nResult using NumPy:\", result_numpy)\n",
    "\n"
   ]
  },
  {
   "cell_type": "code",
   "execution_count": 41,
   "metadata": {},
   "outputs": [
    {
     "name": "stdout",
     "output_type": "stream",
     "text": [
      "\n",
      "Time using list of lists: 0.05639849999715807 seconds\n",
      "Time using NumPy: 0.03371309999783989 seconds\n"
     ]
    }
   ],
   "source": [
    "import timeit\n",
    "import numpy as np\n",
    "\n",
    "def mat_multiply(a, b):\n",
    "# Time matrix multiplication using list of lists\n",
    "    time_list_of_lists = timeit.timeit(lambda: mat_multiply(a, b), number=10000)\n",
    "# Time matrix multiplication using NumPy\n",
    "    time_numpy = timeit.timeit(lambda: np.dot(a, b), number=10000)\n",
    "\n",
    "print(f\"\\nTime using list of lists: {time_list_of_lists} seconds\")\n",
    "print(f\"Time using NumPy: {time_numpy} seconds\")\n"
   ]
  },
  {
   "cell_type": "markdown",
   "metadata": {},
   "source": [
    "As we can see, that time taken by numpy is less, thus numpy is faster."
   ]
  },
  {
   "cell_type": "markdown",
   "metadata": {},
   "source": [
    "Q3.\n"
   ]
  },
  {
   "cell_type": "code",
   "execution_count": 42,
   "metadata": {},
   "outputs": [
    {
     "name": "stdout",
     "output_type": "stream",
     "text": [
      "Time using passes method: 0.10483810000005178 seconds\n",
      "Time using sort method: 0.2725038999997196 seconds\n",
      "Time using NumPy median: 0.036838299994997215 seconds\n"
     ]
    }
   ],
   "source": [
    "import numpy as np\n",
    "import timeit\n",
    "\n",
    "def median_passes(arr):\n",
    "    \n",
    "    highest = float('-inf')\n",
    "    second_highest = float('-inf')\n",
    "\n",
    "    for num in arr:\n",
    "        if num > highest:\n",
    "            second_highest = highest\n",
    "            highest = num\n",
    "        elif num > second_highest:\n",
    "            second_highest = num\n",
    "\n",
    "    if len(arr) % 2 == 1:\n",
    "        return highest\n",
    "    else:\n",
    "        return (highest + second_highest) / 2\n",
    "\n",
    "def median_sort(arr):\n",
    "    sorted_arr = sorted(arr)\n",
    "    n = len(sorted_arr)\n",
    "\n",
    "    if n % 2 == 1:\n",
    "        return sorted_arr[n // 2]\n",
    "    else:\n",
    "        mid1 = sorted_arr[n // 2 - 1]\n",
    "        mid2 = sorted_arr[n // 2]\n",
    "        return (mid1 + mid2) / 2\n",
    "\n",
    "\n",
    "arr = np.random.rand(1000)\n",
    "\n",
    "\n",
    "time_passes = timeit.timeit(lambda: median_passes(arr), number=1000)\n",
    "time_sort = timeit.timeit(lambda: median_sort(arr), number=1000)\n",
    "time_numpy = timeit.timeit(lambda: np.median(arr), number=1000)\n",
    "\n",
    "print(f\"Time using passes method: {time_passes} seconds\")\n",
    "print(f\"Time using sort method: {time_sort} seconds\")\n",
    "print(f\"Time using NumPy median: {time_numpy} seconds\")\n"
   ]
  },
  {
   "cell_type": "markdown",
   "metadata": {},
   "source": [
    "4. The function is given by: \n",
    "$$\n",
    "f(x, y) = x^2y + y^3\\sin(x)\n",
    "$$\n",
    "The partial derivatives with respect to \\(x\\) and \\(y\\) are:\n",
    "\n",
    "$$\n",
    "\\frac{\\partial f}{\\partial x} = 2xy - y^3\\cos(x)\n",
    "$$\n",
    "\n",
    "$$\n",
    "\\frac{\\partial f}{\\partial y} = x^2 + 3y^2\\sin(x)\n",
    "$$\n",
    "\n",
    "So, the gradient is given by the vector:\n",
    "\n",
    "$$\n",
    "\\nabla f = \\left(2xy + y^3\\cos(x), x^2 + 3y^2\\sin(x)\\right)\n",
    "$$\n"
   ]
  },
  {
   "cell_type": "markdown",
   "metadata": {},
   "source": [
    "Q5\n",
    "\n"
   ]
  },
  {
   "cell_type": "code",
   "execution_count": 43,
   "metadata": {},
   "outputs": [
    {
     "name": "stdout",
     "output_type": "stream",
     "text": [
      "Analytical Gradient: [-10.633398  47.646275]\n",
      "JAX Gradient: (Array(-10.633398, dtype=float32, weak_type=True), Array(47.646275, dtype=float32, weak_type=True))\n"
     ]
    }
   ],
   "source": [
    "import jax\n",
    "import jax.numpy as jnp\n",
    "\n",
    "def f(x, y):\n",
    "    return x**2 * y + y**3 * jnp.sin(x)\n",
    "\n",
    "def grad_f(x, y):\n",
    "    df_dx = 2 * x * y + y**3 * jnp.cos(x)\n",
    "    df_dy = x**2 + 3 * y**2 * jnp.sin(x)\n",
    "    return jnp.array([df_dx, df_dy])\n",
    "\n",
    "grad_jax = jax.grad(f, argnums=(0,1))\n",
    "\n",
    "x_val = 2.0\n",
    "y_val = 4.0\n",
    "\n",
    "analyt_gradient = grad_f(x_val, y_val)\n",
    "jax_gradient = grad_jax(x_val, y_val)\n",
    "\n",
    "# Compare the results\n",
    "print(\"Analytical Gradient:\", analyt_gradient)\n",
    "print(\"JAX Gradient:\", jax_gradient)\n"
   ]
  },
  {
   "cell_type": "markdown",
   "metadata": {},
   "source": [
    "Q6.\n"
   ]
  },
  {
   "cell_type": "code",
   "execution_count": 14,
   "metadata": {},
   "outputs": [
    {
     "name": "stdout",
     "output_type": "stream",
     "text": [
      "\n",
      "Partial derivative with respect to x:\n",
      "2*x*y + y**3*cos(x)\n",
      "\n",
      "Partial derivative with respect to y:\n",
      "x**2 + 3*y**2*sin(x)\n"
     ]
    }
   ],
   "source": [
    "from sympy import symbols, diff, sin\n",
    "\n",
    "x, y = symbols('x y')\n",
    "f = x**2*y + y**3*sin(x)\n",
    "\n",
    "df_dx = diff(f, x)\n",
    "df_dy = diff(f, y)\n",
    "\n",
    "print(\"\\nPartial derivative with respect to x:\")\n",
    "print(df_dx)\n",
    "\n",
    "print(\"\\nPartial derivative with respect to y:\")\n",
    "print(df_dy)\n"
   ]
  },
  {
   "cell_type": "markdown",
   "metadata": {},
   "source": [
    "Q7.\n"
   ]
  },
  {
   "cell_type": "code",
   "execution_count": 44,
   "metadata": {},
   "outputs": [
    {
     "name": "stdout",
     "output_type": "stream",
     "text": [
      "{2022: {'Branch 1': {'Roll Number': 100, 'Name': 'std1', 'Marks': {'Maths': 78, 'English': 66}}, 'Branch 2': {'Roll Number': 101, 'Name': 'std1', 'Marks': {'Maths': 90, 'English': 56}}}, 2023: {'Branch 1': {'Roll Number': 102, 'Name': 'std1', 'Marks': {'Maths': 36, 'English': 98}}, 'Branch 2': {'Roll Number': 103, 'Name': 'std2', 'Marks': {'Maths': 70, 'English': 67}}}, 2024: {'Branch 1': {'Roll Number': 104, 'Name': 'std3', 'Marks': {'Maths': 84, 'English': 88}}, 'Branch 2': {'Roll Number': 105, 'Name': 'std4', 'Marks': {'Maths': 97, 'English': 97}}}, 2025: {'Branch 1': {'Roll Number': 106, 'Name': 'std5', 'Marks': {'Maths': 88, 'English': 79}}, 'Branch 2': {'Roll Number': 107, 'Name': 'std6', 'Marks': {'Maths': 75, 'English': 85}}}}\n"
     ]
    }
   ],
   "source": [
    "\n",
    "Student_info = {2022:{\"Branch 1\":{\"Roll Number\": 100, \n",
    "                                  \"Name\":\"std1\",  \n",
    "                                  \"Marks\":{\"Maths\": 78, \"English\": 66} }, \n",
    "                      \"Branch 2\":{\"Roll Number\": 101, \n",
    "                                  \"Name\":\"std1\",  \n",
    "                                  \"Marks\":{\"Maths\": 90, \"English\": 56} }}, \n",
    "                \n",
    "               2023: {\"Branch 1\":{\"Roll Number\": 102, \n",
    "                                  \"Name\":\"std1\",  \n",
    "                                  \"Marks\":{\"Maths\": 36, \"English\": 98} }, \n",
    "                      \"Branch 2\":{\"Roll Number\": 103, \n",
    "                                  \"Name\":\"std2\",  \n",
    "                                  \"Marks\":{\"Maths\": 70, \"English\": 67} }},\n",
    "                \n",
    "               2024: {\"Branch 1\":{\"Roll Number\": 104, \n",
    "                                  \"Name\":\"std3\",  \n",
    "                                  \"Marks\":{\"Maths\": 84, \"English\": 88} }, \n",
    "                      \"Branch 2\":{\"Roll Number\": 105, \n",
    "                                  \"Name\":\"std4\",  \n",
    "                                  \"Marks\":{\"Maths\": 97, \"English\": 97} }}, \n",
    "                \n",
    "               2025: {\"Branch 1\":{\"Roll Number\": 106, \n",
    "                                  \"Name\":\"std5\",  \n",
    "                                  \"Marks\":{\"Maths\": 88, \"English\": 79} }, \n",
    "                      \"Branch 2\":{\"Roll Number\": 107, \n",
    "                                  \"Name\":\"std6\",  \n",
    "                                  \"Marks\":{\"Maths\": 75, \"English\": 85} }}}\n",
    "\n",
    "print(Student_info)\n"
   ]
  },
  {
   "cell_type": "markdown",
   "metadata": {},
   "source": [
    "Q8."
   ]
  },
  {
   "cell_type": "code",
   "execution_count": 49,
   "metadata": {},
   "outputs": [
    {
     "data": {
      "text/plain": [
       "[<__main__.year at 0x1b283d73670>,\n",
       " <__main__.year at 0x1b283d724a0>,\n",
       " <__main__.year at 0x1b283d728c0>,\n",
       " <__main__.year at 0x1b283d71f90>,\n",
       " <__main__.year at 0x1b2829e6b00>]"
      ]
     },
     "execution_count": 49,
     "metadata": {},
     "output_type": "execute_result"
    }
   ],
   "source": [
    "class year:\n",
    "  def __init__(self, years, branch):\n",
    "    self.years= years\n",
    "    self.branch = branch\n",
    "\n",
    "class Branch:\n",
    "  def __init__(self, branch, student_data):\n",
    "    self.branch = branch\n",
    "    self.student_data = student_data\n",
    "\n",
    "class Data:\n",
    "  def __init__(self, Roll_num, Name, Marks):\n",
    "    self.Roll_num = Roll_num\n",
    "    self.Name = Name\n",
    "    self.Marks= Marks\n",
    "\n",
    "\n",
    "Database = [year(2022, [Branch(\"Branch 1\", [Data(100, \"cat1\", {\"Eng\": 86, \"Social\": 65})]), Branch(\"Branch 2\", [Data(101, \"dog1\", {\"Eng\": 76, \"Social\": 65})])]), \n",
    "            year(2023, [Branch(\"Branch 1\", [Data(102, \"cat2\", {\"Eng\": 89, \"Social\": 93})]), Branch(\"Branch 2\", [Data(103, \"dog2\", {\"Eng\": 84, \"Social\": 83})])]),\n",
    "            year(2024, [Branch(\"Branch 1\", [Data(104, \"cat3\", {\"Eng\": 23, \"Social\": 67})]), Branch(\"Branch 2\", [Data(105, \"dog3\", {\"Eng\": 73, \"Social\": 65})])]),\n",
    "            year(2025, [Branch(\"Branch 1\", [Data(106, \"cat4\", {\"Eng\": 84, \"Social\": 82})]), Branch(\"Branch 2\", [Data(107, \"dog4\", {\"Eng\": 56, \"Social\": 85})])]),\n",
    "            year(2026, [Branch(\"Branch 1\", [Data(108, \"cat5\", {\"Eng\": 90, \"Social\": 63})]), Branch(\"Branch 2\", [Data(109, \"dog5\", {\"Eng\": 74, \"Social\": 87})])])]\n",
    "\n",
    "            \n",
    "Database"
   ]
  },
  {
   "cell_type": "markdown",
   "metadata": {},
   "source": [
    "Q9.\n"
   ]
  },
  {
   "cell_type": "code",
   "execution_count": 16,
   "metadata": {},
   "outputs": [
    {
     "data": {
      "image/png": "[encoded data removed]",
      "text/plain": [
       "<Figure size 432x288 with 1 Axes>"
      ]
     },
     "metadata": {
      "needs_background": "light"
     },
     "output_type": "display_data"
    }
   ],
   "source": [
    "import matplotlib.pyplot as plt\n",
    "import numpy as np\n",
    "\n",
    "def f(x):\n",
    "    return x\n",
    "x_values = np.arange(0.5, 100.1, 0.5)\n",
    "y_values = f(x_values)\n",
    "\n",
    "# Plot the function\n",
    "plt.plot(x_values, y_values, label='y = x')\n",
    "\n",
    "# Set labels and title\n",
    "plt.xlabel('x')\n",
    "plt.ylabel('y')\n",
    "plt.title('Plot of y = x')\n",
    "\n",
    "plt.legend()\n",
    "\n",
    "\n",
    "plt.show()\n"
   ]
  },
  {
   "cell_type": "code",
   "execution_count": 21,
   "metadata": {},
   "outputs": [
    {
     "data": {
      "image/png": "[encoded data removed]",
      "text/plain": [
       "<Figure size 432x288 with 1 Axes>"
      ]
     },
     "metadata": {
      "needs_background": "light"
     },
     "output_type": "display_data"
    }
   ],
   "source": [
    "import matplotlib.pyplot as plt\n",
    "import numpy as np\n",
    "\n",
    "def f(x):\n",
    "    return x**2\n",
    "x_values = np.arange(0.5, 100.1, 0.5)\n",
    "\n",
    "y_values = f(x_values)\n",
    "\n",
    "plt.plot(x_values, y_values, label='y = x**2')\n",
    "\n",
    "plt.xlabel('x')\n",
    "plt.ylabel('y')\n",
    "plt.title('Plot of y = x**2')\n",
    "\n",
    "plt.legend()\n",
    "\n",
    "plt.show()\n"
   ]
  },
  {
   "cell_type": "code",
   "execution_count": 22,
   "metadata": {},
   "outputs": [
    {
     "data": {
      "image/png": "[encoded data removed]",
      "text/plain": [
       "<Figure size 432x288 with 1 Axes>"
      ]
     },
     "metadata": {
      "needs_background": "light"
     },
     "output_type": "display_data"
    }
   ],
   "source": [
    "import matplotlib.pyplot as plt\n",
    "import numpy as np\n",
    "\n",
    "\n",
    "def f(x):\n",
    "    return x**3/100\n",
    "\n",
    "x_values = np.arange(0.5, 100.1, 0.5)\n",
    "y_values = f(x_values)\n",
    "\n",
    "\n",
    "plt.plot(x_values, y_values, label='y = x**3/100')\n",
    "plt.xlabel('x')\n",
    "plt.ylabel('y')\n",
    "plt.title('Plot of y = x**3/100')\n",
    "\n",
    "plt.legend()\n",
    "\n",
    "plt.show()\n"
   ]
  },
  {
   "cell_type": "code",
   "execution_count": 24,
   "metadata": {},
   "outputs": [
    {
     "data": {
      "image/png": "[encoded data removed]",
      "text/plain": [
       "<Figure size 432x288 with 1 Axes>"
      ]
     },
     "metadata": {
      "needs_background": "light"
     },
     "output_type": "display_data"
    }
   ],
   "source": [
    "import matplotlib.pyplot as plt\n",
    "import numpy as np\n",
    "\n",
    "\n",
    "def f(x):\n",
    "    return np.sin(x)\n",
    "x_values = np.arange(0.5, 100.1, 0.5)\n",
    "y_values = f(x_values)\n",
    "\n",
    "plt.plot(x_values, y_values, label='y = sin(x)')\n",
    "\n",
    "plt.xlabel('x')\n",
    "plt.ylabel('y')\n",
    "plt.title('Plot of y = sin(x)')\n",
    "\n",
    "plt.legend()\n",
    "\n",
    "plt.show()\n"
   ]
  },
  {
   "cell_type": "code",
   "execution_count": 25,
   "metadata": {},
   "outputs": [
    {
     "data": {
      "image/png": "[encoded data removed]",
      "text/plain": [
       "<Figure size 432x288 with 1 Axes>"
      ]
     },
     "metadata": {
      "needs_background": "light"
     },
     "output_type": "display_data"
    }
   ],
   "source": [
    "import matplotlib.pyplot as plt\n",
    "import numpy as np\n",
    "def f(x):\n",
    "    return np.sin(x)/x\n",
    "\n",
    "\n",
    "x_values = np.arange(0.5, 100.1, 0.5)\n",
    "y_values = f(x_values)\n",
    "\n",
    "plt.plot(x_values, y_values, label='y = x')\n",
    "\n",
    "plt.xlabel('x')\n",
    "plt.ylabel('y')\n",
    "plt.title('Plot of y = x')\n",
    "plt.legend()\n",
    "plt.show()\n"
   ]
  },
  {
   "cell_type": "code",
   "execution_count": 27,
   "metadata": {},
   "outputs": [
    {
     "data": {
      "image/png": "[encoded data removed]",
      "text/plain": [
       "<Figure size 432x288 with 1 Axes>"
      ]
     },
     "metadata": {
      "needs_background": "light"
     },
     "output_type": "display_data"
    }
   ],
   "source": [
    "import matplotlib.pyplot as plt\n",
    "import numpy as np\n",
    "\n",
    "\n",
    "def f(x):\n",
    "    return np.log(x)\n",
    "x_values = np.arange(0.5, 100.1, 0.5)\n",
    "\n",
    "y_values = f(x_values)\n",
    "plt.plot(x_values, y_values, label='y = log(x)')\n",
    "\n",
    "plt.xlabel('x')\n",
    "plt.ylabel('y')\n",
    "plt.title('Plot of y = log(x)')\n",
    "plt.legend()\n",
    "plt.show()\n"
   ]
  },
  {
   "cell_type": "code",
   "execution_count": 28,
   "metadata": {},
   "outputs": [
    {
     "data": {
      "image/png": "[encoded data removed]",
      "text/plain": [
       "<Figure size 432x288 with 1 Axes>"
      ]
     },
     "metadata": {
      "needs_background": "light"
     },
     "output_type": "display_data"
    }
   ],
   "source": [
    "import matplotlib.pyplot as plt\n",
    "import numpy as np\n",
    "\n",
    "# Define the function\n",
    "def f(x):\n",
    "    return np.exp(x)\n",
    "\n",
    "x_values = np.arange(0.5, 100.1, 0.5)\n",
    "\n",
    "\n",
    "y_values = f(x_values)\n",
    "plt.plot(x_values, y_values, label='y = exp(x)')\n",
    "\n",
    "# Set labels and title\n",
    "plt.xlabel('x')\n",
    "plt.ylabel('y')\n",
    "plt.title('Plot of y = exp(x)')\n",
    "plt.legend()\n",
    "plt.show()\n"
   ]
  },
  {
   "cell_type": "markdown",
   "metadata": {},
   "source": [
    "Q10.\n"
   ]
  },
  {
   "cell_type": "code",
   "execution_count": 50,
   "metadata": {},
   "outputs": [
    {
     "name": "stdout",
     "output_type": "stream",
     "text": [
      "\n",
      "Column with the highest standard deviation: a\n",
      "\n",
      "Row with the lowest mean: 18\n"
     ]
    }
   ],
   "source": [
    "import numpy as np\n",
    "import pandas as pd\n",
    "\n",
    "# Generate a 20x5 matrix of random numbers in the range [1, 2)\n",
    "matrix_data = np.random.uniform(1, 2, size=(20, 5))\n",
    "df = pd.DataFrame(matrix_data, columns=['a', 'b', 'c', 'd', 'e'])\n",
    "\n",
    "# print(df)\n",
    "max_std_column = df.std().idxmax()\n",
    "print(\"\\nColumn with the highest standard deviation:\", max_std_column)\n",
    "\n",
    "min_mean_row = df.mean(axis=1).idxmin()\n",
    "print(\"\\nRow with the lowest mean:\", min_mean_row)\n"
   ]
  },
  {
   "cell_type": "markdown",
   "metadata": {},
   "source": [
    "Q11.\n"
   ]
  },
  {
   "cell_type": "code",
   "execution_count": 51,
   "metadata": {},
   "outputs": [
    {
     "name": "stdout",
     "output_type": "stream",
     "text": [
      "\n",
      "Number of rows where 'g' is 'LT8': 13\n",
      "\n",
      "Standard deviation of 'f' for rows where 'g' is 'LT8': 0.557299022792485\n",
      "\n",
      "Standard deviation of 'f' for rows where 'g' is 'GT8': 0.20426758480562696\n"
     ]
    }
   ],
   "source": [
    "import numpy as np\n",
    "import pandas as pd\n",
    "\n",
    "\n",
    "matrix_data = np.random.uniform(1, 2, size=(20, 5))\n",
    "df = pd.DataFrame(matrix_data, columns=['a', 'b', 'c', 'd', 'e'])\n",
    "\n",
    "# Add a new column \"f\" which is the sum of columns 'a', 'b', 'c', 'd', 'e'\n",
    "df['f'] = df[['a', 'b', 'c', 'd', 'e']].sum(axis=1)\n",
    "\n",
    "# Create a new column \"g\" based on the condition\n",
    "df['g'] = np.where(df['f'] < 8, 'LT8', 'GT8')\n",
    "\n",
    "# print(df)\n",
    "\n",
    "# Find the number of rows where the value in the column \"g\" is \"LT8\"\n",
    "lt8_count = (df['g'] == 'LT8').sum()\n",
    "print(\"\\nNumber of rows where 'g' is 'LT8':\", lt8_count)\n",
    "\n",
    "# Find the standard deviation of column \"f\" for rows where \"g\" is \"LT8\"\n",
    "std_lt8 = df.loc[df['g'] == 'LT8', 'f'].std()\n",
    "print(\"\\nStandard deviation of 'f' for rows where 'g' is 'LT8':\", std_lt8)\n",
    "\n",
    "# Find the standard deviation of column \"f\" for rows where \"g\" is \"GT8\"\n",
    "std_gt8 = df.loc[df['g'] == 'GT8', 'f'].std()\n",
    "print(\"\\nStandard deviation of 'f' for rows where 'g' is 'GT8':\", std_gt8)\n"
   ]
  },
  {
   "cell_type": "markdown",
   "metadata": {},
   "source": [
    "Q12. Broadcasting is an operation of matching the dimensions of differently shaped arrays in order to be able to perform further operations on those arrays. An example for the same is shoen below where two matrixes of different size are used and then added together:\n",
    " "
   ]
  },
  {
   "cell_type": "code",
   "execution_count": 34,
   "metadata": {},
   "outputs": [
    {
     "name": "stdout",
     "output_type": "stream",
     "text": [
      "[[11 22 33]\n",
      " [14 25 36]]\n"
     ]
    }
   ],
   "source": [
    "import numpy as np\n",
    "\n",
    "# Create a 2x3 matrix\n",
    "matrix_a = np.array([[1, 2, 3],\n",
    "                    [4, 5, 6]])\n",
    "\n",
    "# Create a 1x3 array\n",
    "matrix_b = np.array([10, 20, 30])\n",
    "\n",
    "# Broadcasting: Adding the array to each row of the matrix\n",
    "sum_mat = matrix_a + matrix_b\n",
    "\n",
    "print(sum_mat)\n"
   ]
  },
  {
   "cell_type": "markdown",
   "metadata": {},
   "source": [
    "Q13."
   ]
  },
  {
   "cell_type": "code",
   "execution_count": 48,
   "metadata": {},
   "outputs": [
    {
     "name": "stdout",
     "output_type": "stream",
     "text": [
      "Custom argmin result: 1\n",
      "NumPy argmin result: 1\n"
     ]
    }
   ],
   "source": [
    "import numpy as np\n",
    "\n",
    "def argmin_result(arr):\n",
    "    min_value = arr[0]\n",
    "    min_index = 0\n",
    "\n",
    "    for i in range(1, len(arr)):\n",
    "        if arr[i] < min_value:\n",
    "            min_value = arr[i]\n",
    "            min_index = i\n",
    "\n",
    "    return min_index\n",
    "arr = np.array([3, 1, 4, 1, 5, 9, 2, 6, 5, 3, 5])\n",
    "\n",
    "solution = argmin_result(arr)\n",
    "\n",
    "numpy_result = np.argmin(arr)\n",
    "\n",
    "print(\"Custom argmin result:\", solution)\n",
    "print(\"NumPy argmin result:\", numpy_result)\n"
   ]
  }
 ],
 "metadata": {
  "kernelspec": {
   "display_name": "Python 3",
   "language": "python",
   "name": "python3"
  },
  "language_info": {
   "codemirror_mode": {
    "name": "ipython",
    "version": 3
   },
   "file_extension": ".py",
   "mimetype": "text/x-python",
   "name": "python",
   "nbconvert_exporter": "python",
   "pygments_lexer": "ipython3",
   "version": "3.10.5"
  }
 },
 "nbformat": 4,
 "nbformat_minor": 2
}
